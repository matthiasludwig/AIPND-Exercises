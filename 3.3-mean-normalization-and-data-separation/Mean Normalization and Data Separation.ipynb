{
 "cells": [
  {
   "cell_type": "markdown",
   "metadata": {},
   "source": [
    "# Mean Normalization\n",
    "\n",
    "In machine learning we use large amounts of data to train our models. Some machine learning algorithms may require that the data is *normalized* in order to work correctly. The idea of normalization, also known as *feature scaling*, is to ensure that all the data is on a similar scale, *i.e.* that all the data takes on a similar range of values. For example, we might have a dataset that has values between 0 and 5,000. By normalizing the data we can make the range of values be between 0 and 1.\n",
    "\n",
    "In this lab, you will be performing a different kind of feature scaling known as *mean normalization*. Mean normalization will scale the data, but instead of making the values be between 0 and 1, it will distribute the values evenly in some small interval around zero. For example, if we have a dataset that has values between 0 and 5,000, after mean normalization the range of values will be distributed in some small range around 0, for example between -3 to 3. Because the range of values are distributed evenly around zero, this guarantees that the average (mean) of all elements will be zero. Therefore, when you perform *mean normalization* your data will not only be scaled but it will also have an average of zero. \n",
    "\n",
    "# To Do:\n",
    "\n",
    "You will start by importing NumPy and creating a rank 2 ndarray of random integers between 0 and 5,000 (inclusive) with 1000 rows and 20 columns. This array will simulate a dataset with a wide range of values. Fill in the code below"
   ]
  },
  {
   "cell_type": "code",
   "execution_count": 3,
   "metadata": {},
   "outputs": [
    {
     "name": "stdout",
     "output_type": "stream",
     "text": [
      "(1000, 20)\n"
     ]
    }
   ],
   "source": [
    "# import NumPy into Python\n",
    "import numpy as np\n",
    "\n",
    "# Create a 1000 x 20 ndarray with random integers in the half-open interval [0, 5001).\n",
    "X = np.random.randint(0, 5001, (1000, 20))\n",
    "\n",
    "# print the shape of X\n",
    "print(X.shape)"
   ]
  },
  {
   "cell_type": "markdown",
   "metadata": {},
   "source": [
    "Now that you created the array we will mean normalize it. We will perform mean normalization using the following equation:\n",
    "\n",
    "$\\mbox{Norm_Col}_i = \\frac{\\mbox{Col}_i - \\mu_i}{\\sigma_i}$\n",
    "\n",
    "where $\\mbox{Col}_i$ is the $i$th column of $X$, $\\mu_i$ is average of the values in the $i$th column of $X$, and $\\sigma_i$ is the standard deviation of the values in the $i$th column of $X$. In other words, mean normalization is performed by subtracting from each column of $X$ the average of its values, and then by dividing by the standard deviation of its values. In the space below, you will first calculate the average and standard deviation of each column of $X$. "
   ]
  },
  {
   "cell_type": "code",
   "execution_count": 6,
   "metadata": {},
   "outputs": [],
   "source": [
    "# Average of the values in each column of X\n",
    "ave_cols = np.mean(X, axis=0)\n",
    "\n",
    "# Standard Deviation of the values in each column of X\n",
    "std_cols = np.std(X, axis=0)"
   ]
  },
  {
   "cell_type": "markdown",
   "metadata": {},
   "source": [
    "If you have done the above calculations correctly, then `ave_cols` and `std_cols`, should both be vectors with shape `(20,)` since $X$ has 20 columns. You can verify this by filling the code below:"
   ]
  },
  {
   "cell_type": "code",
   "execution_count": 7,
   "metadata": {},
   "outputs": [
    {
     "name": "stdout",
     "output_type": "stream",
     "text": [
      "(20,)\n(20,)\n"
     ]
    }
   ],
   "source": [
    "# Print the shape of ave_cols\n",
    "print(ave_cols.shape)\n",
    "\n",
    "# Print the shape of std_cols\n",
    "print(std_cols.shape)"
   ]
  },
  {
   "cell_type": "markdown",
   "metadata": {},
   "source": [
    "You can now take advantage of Broadcasting to calculate the mean normalized version of $X$ in just one line of code using the equation above. Fill in the code below"
   ]
  },
  {
   "cell_type": "code",
   "execution_count": 8,
   "metadata": {},
   "outputs": [],
   "source": [
    "# Mean normalize X\n",
    "X_norm = ((X - ave_cols) / std_cols)"
   ]
  },
  {
   "cell_type": "markdown",
   "metadata": {},
   "source": [
    "If you have performed the mean normalization correctly, then the average of all the elements in $X_{\\tiny{\\mbox{norm}}}$ should be close to zero, and they should be evenly distributed in some small interval around zero. You can verify this by filing the code below:"
   ]
  },
  {
   "cell_type": "code",
   "execution_count": 16,
   "metadata": {},
   "outputs": [
    {
     "name": "stdout",
     "output_type": "stream",
     "text": [
      "X_norm:\n [[-0.3496277   0.9016366   1.33788063 ... -1.64297328 -0.70604939\n  -0.40063581]\n [-0.40912843  1.18565072 -0.74050392 ... -1.45253799  0.569207\n  -1.06242031]\n [ 0.52678308  0.6720815  -0.50034724 ...  0.35900353 -1.16907636\n  -1.71443161]\n ...\n [ 1.10219016 -0.68525783 -0.26430752 ...  1.45899079  0.67249223\n   0.58296582]\n [-1.50884196 -1.55246599  0.08837972 ...  0.89249735  0.79404559\n   1.67197827]\n [-0.03322381 -1.5021431   0.01152958 ... -0.39723771 -0.52126017\n  -0.47672707]]\nX_norm average of the min value in each column:\n -1.7280090133350732\nX_norm average of the max value in each column:\n 1.7289284089364128\n"
     ]
    }
   ],
   "source": [
    "# Print the average of all the values of X_norm\n",
    "print(\"X_norm:\\n\", X_norm)\n",
    "\n",
    "# Print the average of the minimum value in each column of X_norm\n",
    "print(\"X_norm average of the min value in each column:\\n\", X_norm.min(axis=0).mean())\n",
    "\n",
    "# Print the average of the maximum value in each column of X_norm\n",
    "print(\"X_norm average of the max value in each column:\\n\", X_norm.max(axis=0).mean())"
   ]
  },
  {
   "cell_type": "markdown",
   "metadata": {},
   "source": [
    "You should note that since $X$ was created using random integers, the above values will vary. \n",
    "\n",
    "# Data Separation\n",
    "\n",
    "After the data has been mean normalized, it is customary in machine learnig to split our dataset into three sets:\n",
    "\n",
    "1. A Training Set\n",
    "2. A Cross Validation Set\n",
    "3. A Test Set\n",
    "\n",
    "The dataset is usually divided such that the Training Set contains 60% of the data, the Cross Validation Set contains 20% of the data, and the Test Set contains 20% of the data. \n",
    "\n",
    "In this part of the lab you will separate `X_norm` into a Training Set, Cross Validation Set, and a Test Set. Each data set will contain rows of `X_norm` chosen at random, making sure that we don't pick the same row twice. This will guarantee that all the rows of `X_norm` are chosen and randomly distributed among the three new sets.\n",
    "\n",
    "You will start by creating a rank 1 ndarray that contains a random permutation of the row indices of `X_norm`. You can do this by using the `np.random.permutation()` function. The `np.random.permutation(N)` function creates a random permutation of integers from 0 to `N - 1`. Let's see an example:"
   ]
  },
  {
   "cell_type": "code",
   "execution_count": 17,
   "metadata": {},
   "outputs": [
    {
     "data": {
      "text/plain": [
       "array([3, 2, 4, 0, 1])"
      ]
     },
     "execution_count": 17,
     "metadata": {},
     "output_type": "execute_result"
    }
   ],
   "source": [
    "# We create a random permutation of integers 0 to 4\n",
    "np.random.permutation(5)"
   ]
  },
  {
   "cell_type": "markdown",
   "metadata": {},
   "source": [
    "# To Do\n",
    "\n",
    "In the space below create a rank 1 ndarray that contains a random permutation of the row indices of `X_norm`. You can do this in one line of code by extracting the number of rows of `X_norm` using the `shape` attribute and then passing it to the  `np.random.permutation()` function. Remember the `shape` attribute returns a tuple with two numbers in the form `(rows,columns)`."
   ]
  },
  {
   "cell_type": "code",
   "execution_count": 19,
   "metadata": {},
   "outputs": [
    {
     "name": "stdout",
     "output_type": "stream",
     "text": [
      "[831 432 817 979 714 828 295 453 346 912 422 770 181 560 368 196 130 819\n 210 902 164 249 955 708 367 144 118 913 932 674 308 503 807 681 290 826\n 723  98 245 219 177 597 696 998  47 322 983 764 897 712  10 749 173 451\n 525 186 849 170 486 532 241 803 706 511  18 469 153  80 447 438 635 733\n 782 143 501 977 606 291 185 414 543 567 303 630 624 634 611 457 237 474\n 215 155 987 362 253 179 584   6 192 288 940 281  69 361 364 615 762 729\n 398 620 204 316 378 879 119 840 455  87 825 554 857 385 388 574 343 954\n 809 799 334 430  32 141 717 262 491 594 870 402  29 440 412 711 232 793\n 784 933 145 571   8  14  45 968 644 358 345 556 821 808 740 586 563 690\n 796 379 230 951 710 214 272 724 392 384 645 535 688 495 942 660 449  56\n 338 730 915  21 562 715 576 460  74 718 134 106  88 789 925 540 737 115\n 756 818 399 188  84 436 763 947 934 868 439 395 105 590 848 326 883 380\n 133 298 557 264 236  25  23 231 609 332 982 834 489  83 971  16 859 896\n 545 850 783 845 289   2 771 393 365 135 492   9 801 427 798 520 149 527\n 993 781 948 815 573 976  37 648 833 137 583 363 786 689 632 727 791 779\n 120 683 461 454 640 618  39 900 745 684 305 349 547 587 814 318 293 278\n 206 277 216 864 551  17 448 126  70 665 406 835  72 881 687 128 579 580\n 371 442 254 669 218 421 258 842 839 739  46 282 956 163 296 352  38 692\n 776 234 616 283 517 995 484 598 678 391 428 441 578 663 370 255 923 423\n 113 877 359 861 508 777  36 481 924 748 680 973 178 787 709 327 853 626\n 766 465 935 769 108 110 315 702 928 892  31 320 965 410 761 588 966 224\n 450 221 243 205 528 377 350 102 468 591  89 602 301 228 248 628 473 670\n 806 310  49 920 505 478 931 876  85 673 539 199 891 321 865 642 208 949\n 458 194 335  77 223 347 978 882 466 445 279 100 265 307 409 418 107 824\n 470 203 452 903  90 639 992 972 810 604 719 125 908 697 175 991  35 988\n 456 488 337 686 510 612 122 467 927 855 325 758 131 800 741 356 875  96\n 274 174 775 353 502 957 703 360 171 136 813 873  27 871 217 675 667 483\n 905  55 658 405 581 906  62 550 867 774 246 631 921 919  75  33 901  66\n 519  67 985 846 636 582 297 980 671 259 577 159 909 182 778 990 369 507\n 887 142 716 960 375 330 165 651 351  11 213 830 197 311 780 561 558 111\n 701  19 431 889 939 792 564 514 424 958  94 202 788 146  86 123 242 996\n 496 613 233 226 950  78 319 286 963 480 471 275 160 287 726 862 331 768\n 294 417 200 251 936 340 201  54 656 167 536 411 485 731 610 874 376 820\n 735 132 743   4  65 668 760 649 568 383 235 176 720 625 354 191 986 124\n 154 633 677 757 522 256 704 317  73 157 521 152 463 732 765 381 646 721\n 435 211 734 722 147 772 767 679 190 601 329 832 672 127 420  12 816 271\n 654 193  53 695 475 209 559 252 187  48 918 638 691 823 339 553 869 493\n 116  63 268 843  68 198 617 676 183 523 812  99 655 899 894 728 699  59\n  76  15 653  43 114 888 999 964 158  52  24 225 627 537 970 292 416 184\n 529 621 112 599 811 533 984 544 666 250 269 619 162 603 585 548 328 542\n 755 629 880 805  61 499 652 647 407 863 657 685  30 313 433   7 705 836\n 754 139 464  44 911 885 306 524 166 922 937 419 140 479 975 531 299 276\n 180 841 650 394 239 168 444 312 969 546 382 104  71 161 659 342 372 509\n 373 847 941  91 959 260 302 148 476 661 549 844 694  34 946 222 682 974\n 600 401 997 280 637 750 212 592 366 837 797 138 498 944 506 195 386 413\n 884 434 713 530 570 736 693 838 952 753 643  58 854 961 518 494 858 785\n 121 446   1 513 314 773  82 261 357 156 614 566 893 526 662 538  13 284\n 623  79 374 752 930 425 415 169 827 309 829 593 890 244 238 608 207 477\n  93 344  57 866 953 910 101 747   5 266 664 515 552  95 742 569  40 989\n 929 240 565 443 263 914 273 878 555  97 504 270 759  50 429 916   0 172\n 103 534 938 802 707  22 324 898 355 257 189 404 804 285 962 926 117 822\n  42 967 516 129 851 389 426 341 698 904 267 794 852 589 247 945 500 490\n 595  41 751 397 943 790 304  81 700 151 336 895  26 403 746 907 738   3\n  60  64 390 981 400 572 497 459  92 575 725  28 408 387 512 150 300 437\n 482 886 220 229  20 109 348  51 462 472 605 641 227 994 487 596 396 607\n 860 795 541 333 917 744 622 856 323 872]\n"
     ]
    }
   ],
   "source": [
    "# Create a rank 1 ndarray that contains a random permutation of the row indices of `X_norm`\n",
    "row_indices = np.random.permutation(X_norm.shape[0])\n",
    "print(row_indices)"
   ]
  },
  {
   "cell_type": "markdown",
   "metadata": {},
   "source": [
    "Now you can create the three datasets using the `row_indices` ndarray to select the rows that will go into each dataset. Rememeber that the Training Set contains 60% of the data, the Cross Validation Set contains 20% of the data, and the Test Set contains 20% of the data. Each set requires just one line of code to create. Fill in the code below"
   ]
  },
  {
   "cell_type": "code",
   "execution_count": 29,
   "metadata": {},
   "outputs": [],
   "source": [
    "# Make any necessary calculations.\n",
    "# You can save your calculations into variables to use later.\n",
    "training = np.int64(X_norm.shape[0] * 0.6)\n",
    "cross_validation = np.int64(X_norm.shape[0] * 0.2) + training\n",
    "test = np.int64(X_norm.shape[0] * 0.2) + cross_validation\n",
    "\n",
    "# Create a Training Set\n",
    "X_train = X_norm[row_indices[:training], :]\n",
    "\n",
    "# Create a Cross Validation Set\n",
    "X_crossVal = X_norm[row_indices[training:cross_validation], :]\n",
    "\n",
    "# Create a Test Set\n",
    "X_test = X_norm[row_indices[cross_validation:], :]"
   ]
  },
  {
   "cell_type": "markdown",
   "metadata": {},
   "source": [
    "If you performed the above calculations correctly, then `X_tain` should have 600 rows and 20 columns, `X_crossVal` should have 200 rows and 20 columns, and `X_test` should have 200 rows and 20 columns. You can verify this by filling the code below:"
   ]
  },
  {
   "cell_type": "code",
   "execution_count": 30,
   "metadata": {},
   "outputs": [
    {
     "name": "stdout",
     "output_type": "stream",
     "text": [
      "(600, 20)\n(200, 20)\n(200, 20)\n"
     ]
    }
   ],
   "source": [
    "# Print the shape of X_train\n",
    "print(X_train.shape)\n",
    "\n",
    "# Print the shape of X_crossVal\n",
    "print(X_crossVal.shape)\n",
    "\n",
    "# Print the shape of X_test\n",
    "print(X_test.shape)"
   ]
  },
  {
   "cell_type": "code",
   "execution_count": null,
   "metadata": {},
   "outputs": [],
   "source": []
  }
 ],
 "metadata": {
  "kernelspec": {
   "display_name": "Python 3",
   "language": "python",
   "name": "python3"
  },
  "language_info": {
   "codemirror_mode": {
    "name": "ipython",
    "version": 3
   },
   "file_extension": ".py",
   "mimetype": "text/x-python",
   "name": "python",
   "nbconvert_exporter": "python",
   "pygments_lexer": "ipython3",
   "version": "3.6.4"
  }
 },
 "nbformat": 4,
 "nbformat_minor": 2
}
